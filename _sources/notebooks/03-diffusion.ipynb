{
 "cells": [
  {
   "cell_type": "markdown",
   "metadata": {},
   "source": [
    "# Diffusion\n",
    "\n",
    "Diffusion is a rather old concept in physics. The phenomena was first discovered by Robert Brown in 1827 by studying the movement of molecules suspended in a stationary liquid. A formal theory of Brownian motion was then developped by [Einstein in 1905](https://www.damtp.cam.ac.uk/user/gold/pdfs/teaching/old_literature/Einstein1905.pdf), linking the motion observed by Brown to the kinetic theory of heat dissipation."
   ]
  },
  {
   "cell_type": "code",
   "execution_count": null,
   "metadata": {},
   "outputs": [],
   "source": []
  },
  {
   "cell_type": "markdown",
   "metadata": {},
   "source": [
    "### Tweedie's formula\n",
    "Denoising is intimately connected to learning a distribution. This connection is most evident in Tweedie's formula, first reported by [Robbins (1956)](https://projecteuclid.org/journals/annals-of-mathematical-statistics/volume-35/issue-1/The-Empirical-Bayes-Approach-to-Statistical-Decision-Problems/10.1214/aoms/1177703729.full).\n",
    "Tweedie's formula gives an expression for the optimal denoiser at first order, which is given by the following expectation,\n",
    "$$\n",
    "\\mathbb{E}[\\mathbf{x}_0 \\mid \\mathbf{x}_t] = \\mathbf{x}_t + \\sigma^2(t) \\nabla_{\\mathbf{x}_t} \\log p_t(\\mathbf{x}_t)\\, .\n",
    "$$\n",
    "In other words, the score function is the optimal denoiser at first order. More importantly, this connection between denoising and the score function will allow us to move back and forth between the two pictures to construct a scalable framework for learning distributions from samples in high-dimensional spaces."
   ]
  },
  {
   "cell_type": "markdown",
   "metadata": {},
   "source": []
  }
 ],
 "metadata": {
  "kernelspec": {
   "display_name": "caustic",
   "language": "python",
   "name": "python3"
  },
  "language_info": {
   "codemirror_mode": {
    "name": "ipython",
    "version": 3
   },
   "file_extension": ".py",
   "mimetype": "text/x-python",
   "name": "python",
   "nbconvert_exporter": "python",
   "pygments_lexer": "ipython3",
   "version": "3.9.18"
  }
 },
 "nbformat": 4,
 "nbformat_minor": 2
}
