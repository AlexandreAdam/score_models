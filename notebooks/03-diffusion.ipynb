{
 "cells": [
  {
   "cell_type": "markdown",
   "metadata": {},
   "source": [
    "# Diffusion"
   ]
  },
  {
   "cell_type": "code",
   "execution_count": 9,
   "metadata": {},
   "outputs": [
    {
     "data": {
      "text/html": [
       "\n",
       "<style>\n",
       "    .widget-container {\n",
       "        font-family: 'Times New Roman', Times, serif;\n",
       "        background-color: rgba(0, 0, 0, 1); /* Dark with slight transparency */\n",
       "        color: white;\n",
       "        padding: 10px;\n",
       "        border-radius: 8px;\n",
       "        width: 100%;\n",
       "    }\n",
       "    .widget-container .widget-label {\n",
       "        color: white;\n",
       "        font-size: 18px;  /* Increase label font size */\n",
       "    }\n",
       "    /* Set slider number to white and increase font size */\n",
       "    .widget-container .widget-readout {\n",
       "        color: white;\n",
       "        font-size: 18px;  /* Increase slider value font size */\n",
       "    }\n"
      ],
      "text/plain": [
       "<IPython.core.display.HTML object>"
      ]
     },
     "metadata": {},
     "output_type": "display_data"
    },
    {
     "data": {
      "application/vnd.jupyter.widget-view+json": {
       "model_id": "231fac7f85e24ce2aa84b25becdc067f",
       "version_major": 2,
       "version_minor": 0
      },
      "text/plain": [
       "interactive(children=(FloatSlider(value=1.0, description='Time:', max=1.0, step=0.01, style=SliderStyle(descri…"
      ]
     },
     "metadata": {},
     "output_type": "display_data"
    },
    {
     "data": {
      "text/plain": [
       "<function __main__.plot_brownian_motion(t=1.0)>"
      ]
     },
     "execution_count": 9,
     "metadata": {},
     "output_type": "execute_result"
    }
   ],
   "source": [
    "import numpy as np\n",
    "import matplotlib.pyplot as plt\n",
    "from matplotlib.cm import ScalarMappable\n",
    "from matplotlib.colors import Normalize\n",
    "from ipywidgets import interact, widgets\n",
    "from IPython.display import display, HTML\n",
    "import scienceplots\n",
    "\n",
    "# Set up dark mode and SciencePlot style\n",
    "plt.style.use(['science', 'dark_background'])\n",
    "plt.rcParams.update({\n",
    "    \"font.family\": \"Times New Roman\",  # Apply Times New Roman\n",
    "    \"axes.labelcolor\": \"white\",\n",
    "    \"xtick.color\": \"white\",\n",
    "    \"ytick.color\": \"white\",\n",
    "    \"axes.facecolor\": \"black\",\n",
    "    \"figure.facecolor\": \"black\",\n",
    "})\n",
    "\n",
    "# Generate Brownian motion path\n",
    "np.random.seed(0)\n",
    "T = 500\n",
    "x = np.cumsum(np.random.randn(T))  # Brownian motion in 1D\n",
    "time = np.linspace(0, 1, T)  # Normalize time to go from 0 to 1\n",
    "\n",
    "# Function to plot with slider\n",
    "def plot_brownian_motion(t=1.0):\n",
    "    max_index = int(t * (T - 1))  # Scale t to index range\n",
    "    fig, ax = plt.subplots(figsize=(8, 4))\n",
    "    norm = Normalize(vmin=0, vmax=1)\n",
    "    cmap = plt.get_cmap(\"coolwarm\")\n",
    "    colors = cmap(norm(time[:max_index]))\n",
    "    ax.plot(time[:max_index], x[:max_index], color=\"gray\", alpha=0.2)  # Full path\n",
    "    ax.scatter(time[:max_index], x[:max_index], c=colors, s=10)\n",
    "    ax.set_xlim([0, 1])\n",
    "    ax.set_ylim([np.min(x), np.max(x)])\n",
    "    \n",
    "    # Set color bar\n",
    "    sm = ScalarMappable(cmap=cmap, norm=norm)\n",
    "    sm.set_array([])\n",
    "    ax.figure.colorbar(sm, ax=ax, label=\"Normalized Time\")\n",
    "    plt.xlabel(\"Normalized Time\")\n",
    "    plt.ylabel(\"Position\")\n",
    "    plt.title(\"Brownian Motion with Time-Evolving Color\")\n",
    "    plt.show()\n",
    "\n",
    "# Define the slider with float range 0 to 1\n",
    "slider = widgets.FloatSlider(\n",
    "    value=1.0,\n",
    "    min=0.0,\n",
    "    max=1.0,\n",
    "    step=0.01,\n",
    "    description='Time:',\n",
    "    style={'description_width': 'initial'}\n",
    ")\n",
    "slider.style.handle_color = '#E94560'\n",
    "\n",
    "# Custom HTML for Times New Roman font, dark background, white text, and larger font size\n",
    "custom_css = \"\"\"\n",
    "<style>\n",
    "    .widget-container {\n",
    "        font-family: 'Times New Roman', Times, serif;\n",
    "        background-color: rgba(0, 0, 0, 1); /* Dark with slight transparency */\n",
    "        color: white;\n",
    "        padding: 10px;\n",
    "        border-radius: 8px;\n",
    "        width: 100%;\n",
    "    }\n",
    "    .widget-container .widget-label {\n",
    "        color: white;\n",
    "        font-size: 18px;  /* Increase label font size */\n",
    "    }\n",
    "    /* Set slider number to white and increase font size */\n",
    "    .widget-container .widget-readout {\n",
    "        color: white;\n",
    "        font-size: 18px;  /* Increase slider value font size */\n",
    "    }\n",
    "\"\"\"\n",
    "\n",
    "# Display custom-styled slider and interactive plot\n",
    "display(HTML(custom_css))  # Apply the custom styles\n",
    "interact(plot_brownian_motion, t=slider)"
   ]
  }
 ],
 "metadata": {
  "kernelspec": {
   "display_name": "caustic",
   "language": "python",
   "name": "python3"
  },
  "language_info": {
   "codemirror_mode": {
    "name": "ipython",
    "version": 3
   },
   "file_extension": ".py",
   "mimetype": "text/x-python",
   "name": "python",
   "nbconvert_exporter": "python",
   "pygments_lexer": "ipython3",
   "version": "3.9.18"
  }
 },
 "nbformat": 4,
 "nbformat_minor": 2
}
