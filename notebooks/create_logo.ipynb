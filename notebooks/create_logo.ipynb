{
 "cells": [
  {
   "cell_type": "code",
   "execution_count": null,
   "metadata": {},
   "outputs": [],
   "source": [
    "from openai import OpenAI\n",
    "from PIL import Image\n",
    "import matplotlib.pyplot as plt\n",
    "import matplotlib.patches as patches\n",
    "import matplotlib.patheffects as path_effects\n",
    "import subprocess\n",
    "import numpy as np\n",
    "\n",
    "import scienceplots  # for Times New Roman letters\n",
    "\n",
    "plt.style.use(\"science\")"
   ]
  },
  {
   "cell_type": "markdown",
   "metadata": {},
   "source": [
    "# Make the front letter"
   ]
  },
  {
   "cell_type": "code",
   "execution_count": null,
   "metadata": {},
   "outputs": [],
   "source": [
    "# Function to add a neon glow effect to text\n",
    "def neon_glow_text(ax, x, y, text, fontsize=72, color=\"cyan\", glow_radius=60, steps=40):\n",
    "    # fontsizes = np.linspace(fontsize, fontsize + glow_radius, steps)  # Create a range of font sizes\n",
    "    for step in range(steps):\n",
    "        gamma = 7\n",
    "        alpha = (\n",
    "            np.sin(step / steps) ** gamma\n",
    "        )  # Increasing (goes from transparent to opaque)\n",
    "        r = glow_radius * (\n",
    "            1 - (step + 1) / steps\n",
    "        )  # Decreasing (goes from thick to thin)\n",
    "        text_obj = ax.text(\n",
    "            x,\n",
    "            y,\n",
    "            text,\n",
    "            fontsize=fontsize,\n",
    "            ha=\"center\",\n",
    "            va=\"center\",\n",
    "            color=color,\n",
    "            alpha=alpha,\n",
    "        )\n",
    "        text_obj.set_path_effects(\n",
    "            [\n",
    "                path_effects.withStroke(linewidth=r, foreground=color),\n",
    "                path_effects.Normal(),\n",
    "            ]\n",
    "        )\n",
    "\n",
    "\n",
    "color = (0, 255, 255)  # cyan\n",
    "# color = (176, 38, 255) # neon purple\n",
    "# Convert to [0, 1] range\n",
    "color = tuple(c / 255 for c in color)\n",
    "\n",
    "# Center of text and ellipse\n",
    "x = 0.483\n",
    "y = 0.5\n",
    "\n",
    "# Create a figure with a transparent background to be filled in later\n",
    "fig, ax = plt.subplots(figsize=(10.24, 10.24), dpi=100)  # 1024x1024 pixels\n",
    "neon_glow_text(ax, x, y, \"Score-Models\", fontsize=72, color=color)\n",
    "ax.axis(\"off\")\n",
    "# Create a black ellipse background that fades to transparent\n",
    "ax.set_xlim(0, 1)\n",
    "ax.set_ylim(0, 1)\n",
    "ax.set_aspect(\"equal\")\n",
    "\n",
    "# Add rings around it\n",
    "num_rings = 10  # Number of concentric rings based on radius and width\n",
    "glow_radius = 0.5  # Radius of the outermost ring\n",
    "max_alpha = 0.4  # Maximum alpha value for the innermost ring\n",
    "min_alpha = 0.0  # Minimum alpha value for the outermost ring\n",
    "ring_width = 0.3\n",
    "for i in range(num_rings):\n",
    "    radius = glow_radius * ((i + 1) / num_rings)\n",
    "    alpha = max_alpha - (max_alpha - min_alpha) * (i / num_rings)\n",
    "    ring_patch = patches.Wedge(\n",
    "        (x, y),\n",
    "        radius,\n",
    "        0,\n",
    "        360,\n",
    "        width=ring_width,\n",
    "        color=\"black\",\n",
    "        alpha=alpha,\n",
    "        transform=ax.transAxes,\n",
    "    )\n",
    "    ax.add_patch(ring_patch)\n",
    "\n",
    "ellipse_patch = patches.Ellipse((x, y), 0.8, 0.2, color=\"black\", alpha=1)\n",
    "ax.add_patch(ellipse_patch)\n",
    "\n",
    "\n",
    "plt.savefig(\"../assets/sbm_mask.png\", transparent=True)"
   ]
  },
  {
   "cell_type": "markdown",
   "metadata": {},
   "source": [
    "# Generate the background based on a prompt of DALL-E 3"
   ]
  },
  {
   "cell_type": "code",
   "execution_count": null,
   "metadata": {},
   "outputs": [],
   "source": [
    "client = OpenAI()\n",
    "\n",
    "prompt = \"The image should depict a cyberpunk/neon cityscape at night with vibrant buildings, \\\n",
    "a clear night sky, a moon, and giant spiral galaxies spread through the top half of the picture, going far out into the Universe.\"\n",
    "\n",
    "\n",
    "response = client.images.generate(\n",
    "    model=\"dall-e-3\",\n",
    "    prompt=prompt,\n",
    "    size=\"1024x1024\",\n",
    "    quality=\"standard\",  # other option is \"hd\"\n",
    "    n=1,\n",
    ")\n",
    "image_url = response.data[0].url"
   ]
  },
  {
   "cell_type": "code",
   "execution_count": null,
   "metadata": {},
   "outputs": [],
   "source": [
    "# Download the image\n",
    "subprocess.run([\"wget\", \"-O\", \"../assets/background.png\", image_url])"
   ]
  },
  {
   "cell_type": "markdown",
   "metadata": {},
   "source": [
    "# Make the composite"
   ]
  },
  {
   "cell_type": "code",
   "execution_count": null,
   "metadata": {},
   "outputs": [],
   "source": [
    "# Open mask and background images\n",
    "mask = Image.open(\"../assets/sbm_mask.png\").convert(\"RGBA\")\n",
    "background = Image.open(\"../assets/background.png\").convert(\"RGBA\")\n",
    "\n",
    "# Resize mask to match background size\n",
    "mask = mask.resize(background.size, Image.LANCZOS)\n",
    "\n",
    "# Composite\n",
    "final_image = Image.alpha_composite(background, mask)\n",
    "\n",
    "# Save the final image with the glow effect\n",
    "final_image.save(\"../assets/logo.png\")"
   ]
  },
  {
   "cell_type": "code",
   "execution_count": null,
   "metadata": {},
   "outputs": [],
   "source": [
    "display(final_image)"
   ]
  },
  {
   "cell_type": "code",
   "execution_count": null,
   "metadata": {},
   "outputs": [],
   "source": []
  }
 ],
 "metadata": {
  "kernelspec": {
   "display_name": "caustic",
   "language": "python",
   "name": "python3"
  },
  "language_info": {
   "codemirror_mode": {
    "name": "ipython",
    "version": 3
   },
   "file_extension": ".py",
   "mimetype": "text/x-python",
   "name": "python",
   "nbconvert_exporter": "python",
   "pygments_lexer": "ipython3",
   "version": "3.9.18"
  }
 },
 "nbformat": 4,
 "nbformat_minor": 2
}
